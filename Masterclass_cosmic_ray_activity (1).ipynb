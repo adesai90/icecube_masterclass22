{
  "nbformat": 4,
  "nbformat_minor": 0,
  "metadata": {
    "colab": {
      "name": "Masterclass_cosmic_ray_activity.ipynb",
      "provenance": [],
      "collapsed_sections": [],
      "toc_visible": true
    },
    "kernelspec": {
      "name": "python3",
      "display_name": "Python 3"
    },
    "language_info": {
      "name": "python"
    }
  },
  "cells": [
    {
      "cell_type": "markdown",
      "metadata": {
        "id": "U2_D5osbHFRQ"
      },
      "source": [
        "When using python, we generally start with importing \"modules\" which can be thought of as  file consisting of Python code allowing us to perform different tasks."
      ]
    },
    {
      "cell_type": "code",
      "metadata": {
        "id": "0AO-_8GaHD5z"
      },
      "source": [
        "#import section (Using a # symbol allows you to add comments that are ignored by the code)\n",
        "import os\n",
        "# To import files:\n",
        "from google.colab import files\n",
        "import io\n",
        "# To look at the data and analyse it\n",
        "import pandas as pd\n",
        "import numpy as np\n",
        "# To plot the data\n",
        "import matplotlib.pyplot as plt\n",
        "# To fit the data\n",
        "from scipy.optimize import curve_fit"
      ],
      "execution_count": 1,
      "outputs": []
    },
    {
      "cell_type": "markdown",
      "metadata": {
        "id": "E_23gfoWJ3wr"
      },
      "source": [
        "Next we get the data that we want to plot.\n",
        "For this masterclass exercise, make sure you have fit all the events in your data group for follwing the exercise. Once you have fit all the events, click on save data to get a file names \"IceTopData.csv\".\n",
        "\n",
        "Once you have the .csv file run the next line of code which will allow you to upload the file to the notebook.\n",
        "\n",
        "Note: Make sure the name of the file is \"IceTopData.csv\", if it is something else rename it to \"IceTopData.csv\"\n"
      ]
    },
    {
      "cell_type": "markdown",
      "metadata": {
        "id": "S7QBAknj5GLf"
      },
      "source": [
        "# Section 1: Getting the real and simulated data from the IceTopData.csv file"
      ]
    },
    {
      "cell_type": "code",
      "metadata": {
        "colab": {
          "resources": {
            "http://localhost:8080/nbextensions/google.colab/files.js": {
              "data": "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",
              "ok": true,
              "headers": [
                [
                  "content-type",
                  "application/javascript"
                ]
              ],
              "status": 200,
              "status_text": ""
            }
          },
          "base_uri": "https://localhost:8080/",
          "height": 72
        },
        "id": "I2nig5vxHEY7",
        "outputId": "67bcbd5f-07aa-4854-dc6f-c7813516cbb2"
      },
      "source": [
        "uploaded = files.upload()"
      ],
      "execution_count": 2,
      "outputs": [
        {
          "output_type": "display_data",
          "data": {
            "text/html": [
              "\n",
              "     <input type=\"file\" id=\"files-18f995e1-8f83-4ed4-8c97-550a22fbe787\" name=\"files[]\" multiple disabled\n",
              "        style=\"border:none\" />\n",
              "     <output id=\"result-18f995e1-8f83-4ed4-8c97-550a22fbe787\">\n",
              "      Upload widget is only available when the cell has been executed in the\n",
              "      current browser session. Please rerun this cell to enable.\n",
              "      </output>\n",
              "      <script src=\"/nbextensions/google.colab/files.js\"></script> "
            ],
            "text/plain": [
              "<IPython.core.display.HTML object>"
            ]
          },
          "metadata": {
            "tags": []
          }
        },
        {
          "output_type": "stream",
          "text": [
            "Saving IceTopData.csv to IceTopData (3).csv\n"
          ],
          "name": "stdout"
        }
      ]
    },
    {
      "cell_type": "markdown",
      "metadata": {
        "id": "ipJ6BhAOPTrJ"
      },
      "source": [
        "The next line is to check if the upload was done properly. If the upload worked you should be able to see the table of your event data fits below."
      ]
    },
    {
      "cell_type": "code",
      "metadata": {
        "colab": {
          "base_uri": "https://localhost:8080/",
          "height": 979
        },
        "id": "v-WRL4ehHEhL",
        "outputId": "65ae0840-5fb2-4493-a310-0d693b8db9f9"
      },
      "source": [
        "# Loading the data to an object named data_array and sorting it by energy:\n",
        "data_array = pd.read_csv(io.BytesIO(uploaded['IceTopData.csv']))\n",
        "\n",
        "data_array = data_array.sort_values(by='Energy', ascending=True)\n",
        "\n",
        "# Printing the data: (You can use print(data_array) also)\n",
        "data_array\n"
      ],
      "execution_count": 3,
      "outputs": [
        {
          "output_type": "execute_result",
          "data": {
            "text/html": [
              "<div>\n",
              "<style scoped>\n",
              "    .dataframe tbody tr th:only-of-type {\n",
              "        vertical-align: middle;\n",
              "    }\n",
              "\n",
              "    .dataframe tbody tr th {\n",
              "        vertical-align: top;\n",
              "    }\n",
              "\n",
              "    .dataframe thead th {\n",
              "        text-align: right;\n",
              "    }\n",
              "</style>\n",
              "<table border=\"1\" class=\"dataframe\">\n",
              "  <thead>\n",
              "    <tr style=\"text-align: right;\">\n",
              "      <th></th>\n",
              "      <th>S125</th>\n",
              "      <th>Weight</th>\n",
              "      <th>Energy</th>\n",
              "    </tr>\n",
              "  </thead>\n",
              "  <tbody>\n",
              "    <tr>\n",
              "      <th>14</th>\n",
              "      <td>5.449142</td>\n",
              "      <td>65</td>\n",
              "      <td>0.0</td>\n",
              "    </tr>\n",
              "    <tr>\n",
              "      <th>26</th>\n",
              "      <td>7.266548</td>\n",
              "      <td>80</td>\n",
              "      <td>0.0</td>\n",
              "    </tr>\n",
              "    <tr>\n",
              "      <th>25</th>\n",
              "      <td>12.199109</td>\n",
              "      <td>43</td>\n",
              "      <td>0.0</td>\n",
              "    </tr>\n",
              "    <tr>\n",
              "      <th>22</th>\n",
              "      <td>10.872468</td>\n",
              "      <td>12</td>\n",
              "      <td>0.0</td>\n",
              "    </tr>\n",
              "    <tr>\n",
              "      <th>21</th>\n",
              "      <td>3.857697</td>\n",
              "      <td>165</td>\n",
              "      <td>0.0</td>\n",
              "    </tr>\n",
              "    <tr>\n",
              "      <th>20</th>\n",
              "      <td>3.064278</td>\n",
              "      <td>195</td>\n",
              "      <td>0.0</td>\n",
              "    </tr>\n",
              "    <tr>\n",
              "      <th>19</th>\n",
              "      <td>8.636308</td>\n",
              "      <td>25</td>\n",
              "      <td>0.0</td>\n",
              "    </tr>\n",
              "    <tr>\n",
              "      <th>18</th>\n",
              "      <td>8.636308</td>\n",
              "      <td>69</td>\n",
              "      <td>0.0</td>\n",
              "    </tr>\n",
              "    <tr>\n",
              "      <th>16</th>\n",
              "      <td>18.252742</td>\n",
              "      <td>11</td>\n",
              "      <td>0.0</td>\n",
              "    </tr>\n",
              "    <tr>\n",
              "      <th>28</th>\n",
              "      <td>20.479914</td>\n",
              "      <td>5</td>\n",
              "      <td>0.0</td>\n",
              "    </tr>\n",
              "    <tr>\n",
              "      <th>11</th>\n",
              "      <td>6.860063</td>\n",
              "      <td>19</td>\n",
              "      <td>0.0</td>\n",
              "    </tr>\n",
              "    <tr>\n",
              "      <th>29</th>\n",
              "      <td>2.578268</td>\n",
              "      <td>120</td>\n",
              "      <td>0.0</td>\n",
              "    </tr>\n",
              "    <tr>\n",
              "      <th>9</th>\n",
              "      <td>36.419009</td>\n",
              "      <td>6</td>\n",
              "      <td>0.0</td>\n",
              "    </tr>\n",
              "    <tr>\n",
              "      <th>1</th>\n",
              "      <td>19.334285</td>\n",
              "      <td>10</td>\n",
              "      <td>0.0</td>\n",
              "    </tr>\n",
              "    <tr>\n",
              "      <th>4</th>\n",
              "      <td>17.231700</td>\n",
              "      <td>8</td>\n",
              "      <td>0.0</td>\n",
              "    </tr>\n",
              "    <tr>\n",
              "      <th>15</th>\n",
              "      <td>5.772024</td>\n",
              "      <td>89</td>\n",
              "      <td>4116737.0</td>\n",
              "    </tr>\n",
              "    <tr>\n",
              "      <th>13</th>\n",
              "      <td>4.856553</td>\n",
              "      <td>125</td>\n",
              "      <td>4128438.5</td>\n",
              "    </tr>\n",
              "    <tr>\n",
              "      <th>5</th>\n",
              "      <td>17.231700</td>\n",
              "      <td>239</td>\n",
              "      <td>4865185.0</td>\n",
              "    </tr>\n",
              "    <tr>\n",
              "      <th>0</th>\n",
              "      <td>2.731040</td>\n",
              "      <td>79</td>\n",
              "      <td>5029059.5</td>\n",
              "    </tr>\n",
              "    <tr>\n",
              "      <th>24</th>\n",
              "      <td>12.199109</td>\n",
              "      <td>58</td>\n",
              "      <td>6404610.0</td>\n",
              "    </tr>\n",
              "    <tr>\n",
              "      <th>3</th>\n",
              "      <td>8.636308</td>\n",
              "      <td>94</td>\n",
              "      <td>6515793.0</td>\n",
              "    </tr>\n",
              "    <tr>\n",
              "      <th>17</th>\n",
              "      <td>8.636308</td>\n",
              "      <td>78</td>\n",
              "      <td>7326671.5</td>\n",
              "    </tr>\n",
              "    <tr>\n",
              "      <th>23</th>\n",
              "      <td>12.199109</td>\n",
              "      <td>91</td>\n",
              "      <td>8941643.0</td>\n",
              "    </tr>\n",
              "    <tr>\n",
              "      <th>2</th>\n",
              "      <td>8.636308</td>\n",
              "      <td>69</td>\n",
              "      <td>9492318.0</td>\n",
              "    </tr>\n",
              "    <tr>\n",
              "      <th>10</th>\n",
              "      <td>14.498669</td>\n",
              "      <td>67</td>\n",
              "      <td>11138377.0</td>\n",
              "    </tr>\n",
              "    <tr>\n",
              "      <th>27</th>\n",
              "      <td>20.479914</td>\n",
              "      <td>77</td>\n",
              "      <td>16796434.0</td>\n",
              "    </tr>\n",
              "    <tr>\n",
              "      <th>7</th>\n",
              "      <td>15.357769</td>\n",
              "      <td>88</td>\n",
              "      <td>19511184.0</td>\n",
              "    </tr>\n",
              "    <tr>\n",
              "      <th>6</th>\n",
              "      <td>16.267774</td>\n",
              "      <td>82</td>\n",
              "      <td>20547926.0</td>\n",
              "    </tr>\n",
              "    <tr>\n",
              "      <th>12</th>\n",
              "      <td>21.693425</td>\n",
              "      <td>68</td>\n",
              "      <td>25031674.0</td>\n",
              "    </tr>\n",
              "    <tr>\n",
              "      <th>8</th>\n",
              "      <td>36.419009</td>\n",
              "      <td>64</td>\n",
              "      <td>33738816.0</td>\n",
              "    </tr>\n",
              "  </tbody>\n",
              "</table>\n",
              "</div>"
            ],
            "text/plain": [
              "         S125  Weight      Energy\n",
              "14   5.449142      65         0.0\n",
              "26   7.266548      80         0.0\n",
              "25  12.199109      43         0.0\n",
              "22  10.872468      12         0.0\n",
              "21   3.857697     165         0.0\n",
              "20   3.064278     195         0.0\n",
              "19   8.636308      25         0.0\n",
              "18   8.636308      69         0.0\n",
              "16  18.252742      11         0.0\n",
              "28  20.479914       5         0.0\n",
              "11   6.860063      19         0.0\n",
              "29   2.578268     120         0.0\n",
              "9   36.419009       6         0.0\n",
              "1   19.334285      10         0.0\n",
              "4   17.231700       8         0.0\n",
              "15   5.772024      89   4116737.0\n",
              "13   4.856553     125   4128438.5\n",
              "5   17.231700     239   4865185.0\n",
              "0    2.731040      79   5029059.5\n",
              "24  12.199109      58   6404610.0\n",
              "3    8.636308      94   6515793.0\n",
              "17   8.636308      78   7326671.5\n",
              "23  12.199109      91   8941643.0\n",
              "2    8.636308      69   9492318.0\n",
              "10  14.498669      67  11138377.0\n",
              "27  20.479914      77  16796434.0\n",
              "7   15.357769      88  19511184.0\n",
              "6   16.267774      82  20547926.0\n",
              "12  21.693425      68  25031674.0\n",
              "8   36.419009      64  33738816.0"
            ]
          },
          "metadata": {
            "tags": []
          },
          "execution_count": 3
        }
      ]
    },
    {
      "cell_type": "markdown",
      "metadata": {
        "id": "phSoPK8FQaKI"
      },
      "source": [
        "Now we filter the data to remove all the rows which have an energy of 0.\n",
        "\n",
        "The output should show a table with all the rows removed which have an energy value of 0.0. We can used these entries to calibrate the energy of the detector. \n"
      ]
    },
    {
      "cell_type": "markdown",
      "metadata": {
        "id": "gqpc5SK05vDu"
      },
      "source": [
        "# Section 2: Getting the energy values of real data and then using it to fit the rate."
      ]
    },
    {
      "cell_type": "markdown",
      "metadata": {
        "id": "QGofFQSU2dW8"
      },
      "source": [
        "We now use the S125 data to perform an energy calibration which can be  used to get energy values for the real data. \n",
        "\n",
        "This is done using the following steps:\n",
        "\n",
        "1. Use the S125 and Energy data of the simualtaions (derived using data_array_filtered = data_array[data_array['Energy'] > 0.0]) to make a plot with S125 on the y axis and Energy on the x.\n",
        "So the xdata=data_array_filtered['Energy'] and ydata=data_array_filtered['S125'].\n",
        "\n",
        "2. Use a fitting procedure similar to the power law fit described in section 3 to derive the relation between S125 and energy.  \n",
        "\n",
        "3. Once you have the parameters of the equation use the S125 values to get the calibrated energy values for the real data that was skipped (E=0).\n"
      ]
    },
    {
      "cell_type": "code",
      "metadata": {
        "id": "zvzB28rkHEs3",
        "colab": {
          "base_uri": "https://localhost:8080/",
          "height": 514
        },
        "outputId": "e20fbd62-e070-43de-e768-effe6c0eb3dc"
      },
      "source": [
        "# Getting just the simulated data\n",
        "\n",
        "# Filtering condition:\n",
        "data_array_filtered = data_array[data_array['Energy'] > 0.0]\n",
        "\n",
        "# Print the new dataframe which shows just the simulated data\n",
        "data_array_filtered "
      ],
      "execution_count": 4,
      "outputs": [
        {
          "output_type": "execute_result",
          "data": {
            "text/html": [
              "<div>\n",
              "<style scoped>\n",
              "    .dataframe tbody tr th:only-of-type {\n",
              "        vertical-align: middle;\n",
              "    }\n",
              "\n",
              "    .dataframe tbody tr th {\n",
              "        vertical-align: top;\n",
              "    }\n",
              "\n",
              "    .dataframe thead th {\n",
              "        text-align: right;\n",
              "    }\n",
              "</style>\n",
              "<table border=\"1\" class=\"dataframe\">\n",
              "  <thead>\n",
              "    <tr style=\"text-align: right;\">\n",
              "      <th></th>\n",
              "      <th>S125</th>\n",
              "      <th>Weight</th>\n",
              "      <th>Energy</th>\n",
              "    </tr>\n",
              "  </thead>\n",
              "  <tbody>\n",
              "    <tr>\n",
              "      <th>15</th>\n",
              "      <td>5.772024</td>\n",
              "      <td>89</td>\n",
              "      <td>4116737.0</td>\n",
              "    </tr>\n",
              "    <tr>\n",
              "      <th>13</th>\n",
              "      <td>4.856553</td>\n",
              "      <td>125</td>\n",
              "      <td>4128438.5</td>\n",
              "    </tr>\n",
              "    <tr>\n",
              "      <th>5</th>\n",
              "      <td>17.231700</td>\n",
              "      <td>239</td>\n",
              "      <td>4865185.0</td>\n",
              "    </tr>\n",
              "    <tr>\n",
              "      <th>0</th>\n",
              "      <td>2.731040</td>\n",
              "      <td>79</td>\n",
              "      <td>5029059.5</td>\n",
              "    </tr>\n",
              "    <tr>\n",
              "      <th>24</th>\n",
              "      <td>12.199109</td>\n",
              "      <td>58</td>\n",
              "      <td>6404610.0</td>\n",
              "    </tr>\n",
              "    <tr>\n",
              "      <th>3</th>\n",
              "      <td>8.636308</td>\n",
              "      <td>94</td>\n",
              "      <td>6515793.0</td>\n",
              "    </tr>\n",
              "    <tr>\n",
              "      <th>17</th>\n",
              "      <td>8.636308</td>\n",
              "      <td>78</td>\n",
              "      <td>7326671.5</td>\n",
              "    </tr>\n",
              "    <tr>\n",
              "      <th>23</th>\n",
              "      <td>12.199109</td>\n",
              "      <td>91</td>\n",
              "      <td>8941643.0</td>\n",
              "    </tr>\n",
              "    <tr>\n",
              "      <th>2</th>\n",
              "      <td>8.636308</td>\n",
              "      <td>69</td>\n",
              "      <td>9492318.0</td>\n",
              "    </tr>\n",
              "    <tr>\n",
              "      <th>10</th>\n",
              "      <td>14.498669</td>\n",
              "      <td>67</td>\n",
              "      <td>11138377.0</td>\n",
              "    </tr>\n",
              "    <tr>\n",
              "      <th>27</th>\n",
              "      <td>20.479914</td>\n",
              "      <td>77</td>\n",
              "      <td>16796434.0</td>\n",
              "    </tr>\n",
              "    <tr>\n",
              "      <th>7</th>\n",
              "      <td>15.357769</td>\n",
              "      <td>88</td>\n",
              "      <td>19511184.0</td>\n",
              "    </tr>\n",
              "    <tr>\n",
              "      <th>6</th>\n",
              "      <td>16.267774</td>\n",
              "      <td>82</td>\n",
              "      <td>20547926.0</td>\n",
              "    </tr>\n",
              "    <tr>\n",
              "      <th>12</th>\n",
              "      <td>21.693425</td>\n",
              "      <td>68</td>\n",
              "      <td>25031674.0</td>\n",
              "    </tr>\n",
              "    <tr>\n",
              "      <th>8</th>\n",
              "      <td>36.419009</td>\n",
              "      <td>64</td>\n",
              "      <td>33738816.0</td>\n",
              "    </tr>\n",
              "  </tbody>\n",
              "</table>\n",
              "</div>"
            ],
            "text/plain": [
              "         S125  Weight      Energy\n",
              "15   5.772024      89   4116737.0\n",
              "13   4.856553     125   4128438.5\n",
              "5   17.231700     239   4865185.0\n",
              "0    2.731040      79   5029059.5\n",
              "24  12.199109      58   6404610.0\n",
              "3    8.636308      94   6515793.0\n",
              "17   8.636308      78   7326671.5\n",
              "23  12.199109      91   8941643.0\n",
              "2    8.636308      69   9492318.0\n",
              "10  14.498669      67  11138377.0\n",
              "27  20.479914      77  16796434.0\n",
              "7   15.357769      88  19511184.0\n",
              "6   16.267774      82  20547926.0\n",
              "12  21.693425      68  25031674.0\n",
              "8   36.419009      64  33738816.0"
            ]
          },
          "metadata": {
            "tags": []
          },
          "execution_count": 4
        }
      ]
    },
    {
      "cell_type": "code",
      "metadata": {
        "colab": {
          "base_uri": "https://localhost:8080/",
          "height": 359
        },
        "id": "zA0PuOmiIbUs",
        "outputId": "0a3ec7c5-c6bd-4471-dddd-651ca01a90b2"
      },
      "source": [
        "# Plotting S125 vs Energy for the simulated events.\n",
        "fig = plt.figure(figsize=(5,5))\n",
        "ax1 = plt.subplot()\n",
        "ax1.scatter(data_array_filtered['Energy'],data_array_filtered['S125'])\n",
        "ax1.set_xscale(\"log\")\n",
        "ax1.set_yscale(\"log\")\n",
        "ax1.set_xlabel(\"Energy\",fontsize=14)\n",
        "ax1.set_ylabel(\"S125\",fontsize=14)\n",
        "\n"
      ],
      "execution_count": 5,
      "outputs": [
        {
          "output_type": "execute_result",
          "data": {
            "text/plain": [
              "Text(0, 0.5, 'S125')"
            ]
          },
          "metadata": {
            "tags": []
          },
          "execution_count": 5
        },
        {
          "output_type": "display_data",
          "data": {
            "image/png": "[encoded data removed]",
            "text/plain": [
              "<Figure size 360x360 with 1 Axes>"
            ]
          },
          "metadata": {
            "tags": [],
            "needs_background": "light"
          }
        }
      ]
    },
    {
      "cell_type": "code",
      "metadata": {
        "id": "s_J9hhBtI9GE"
      },
      "source": [
        "#Defining  a power law function to fit to the data: (In python x^b is written as x**b)\n",
        "def power_law(x, n, b):\n",
        "    return n*(x**(b)) \n"
      ],
      "execution_count": 6,
      "outputs": []
    },
    {
      "cell_type": "code",
      "metadata": {
        "colab": {
          "base_uri": "https://localhost:8080/"
        },
        "id": "-ie3qJRdMp3f",
        "outputId": "96ec3638-7bd2-46ae-cb06-407c89bfbe18"
      },
      "source": [
        "# We use the curve_fit function of scipy. Here we give the function to be fit (power_law),\n",
        "# the xdata=Energy values and the ydata=calculated rate\n",
        "# We get the parameters (n,b) as one of the outputs and  the estimated covariance of parameters \n",
        "# which can be used to determine the standard deviations of the fitting parameters.\n",
        "# We only require the parameters for this exercise as we are not plotting errors\n",
        "\n",
        "parameters, covariance = curve_fit(f=power_law, xdata=data_array_filtered['Energy'], ydata=data_array_filtered['S125'])\n",
        "\n",
        "# The Power-Law fit that you got looks like the following:\n",
        "print(\"Power Law Fit Result:\\n\")\n",
        "print(\"Normalization: %.2e \\nIndex: %.2f \\nEquation:\"%(parameters[0],parameters[1]))\n",
        "print(\"Y = %.2e X^(%.2f)\"%(parameters[0],parameters[1]))"
      ],
      "execution_count": 7,
      "outputs": [
        {
          "output_type": "stream",
          "text": [
            "Power Law Fit Result:\n",
            "\n",
            "Normalization: 4.70e-05 \n",
            "Index: 0.77 \n",
            "Equation:\n",
            "Y = 4.70e-05 X^(0.77)\n"
          ],
          "name": "stdout"
        }
      ]
    },
    {
      "cell_type": "code",
      "metadata": {
        "colab": {
          "base_uri": "https://localhost:8080/",
          "height": 359
        },
        "id": "9jsNttx2QEDR",
        "outputId": "c302c536-e3f9-4e07-edcb-43d0468a36a7"
      },
      "source": [
        "# Now we plot the power law result that you got above\":\n",
        "xvalues_for_powerlaw = np.logspace(6,8,50)\n",
        "yvalues_from_powerlaw = power_law(xvalues_for_powerlaw,parameters[0],parameters[1])\n",
        "\n",
        "#Now we plot all the results:\n",
        "fig = plt.figure(figsize=(5,5))\n",
        "ax1 = plt.subplot()\n",
        "ax1.scatter(data_array_filtered['Energy'],data_array_filtered['S125'],label=\"Observed data\")\n",
        "ax1.plot(xvalues_for_powerlaw,yvalues_from_powerlaw,color=\"red\",label=\"Fit: Y = %.2e $X^{%.2f}$\"%(parameters[0],parameters[1]))\n",
        "ax1.set_xscale(\"log\")\n",
        "ax1.set_yscale(\"log\")\n",
        "ax1.set_xlabel(\"Energy\",fontsize=14)\n",
        "ax1.set_ylabel(\"S125\",fontsize=14)\n",
        "plt.legend(fontsize=14)"
      ],
      "execution_count": 8,
      "outputs": [
        {
          "output_type": "execute_result",
          "data": {
            "text/plain": [
              "<matplotlib.legend.Legend at 0x7fdb47c42b10>"
            ]
          },
          "metadata": {
            "tags": []
          },
          "execution_count": 8
        },
        {
          "output_type": "display_data",
          "data": {
            "image/png": "[encoded data removed]",
            "text/plain": [
              "<Figure size 360x360 with 1 Axes>"
            ]
          },
          "metadata": {
            "tags": [],
            "needs_background": "light"
          }
        }
      ]
    },
    {
      "cell_type": "code",
      "metadata": {
        "colab": {
          "base_uri": "https://localhost:8080/",
          "height": 616
        },
        "id": "Sr4d7tfVNG1-",
        "outputId": "510f5ed6-9dbd-40b6-b290-63c587cc18c9"
      },
      "source": [
        "# Step 3 in the description, getting real energy values.\n",
        "\n",
        "# The power law equation is given as y=n x^b, now that we have n and b values given by parameters[0] and parameters[1],\n",
        "# we can use them to find x as a function of y --> x = (y/n)^(1/b).\n",
        "\n",
        "data_array_real_events = data_array[data_array['Energy'] == 0.0]\n",
        "\n",
        "data_array_real_events['Energy']=(data_array_real_events['S125']/parameters[0])**(1/parameters[1])\n",
        "\n",
        "# Check that all the E=0 events are replaced by enegies\n",
        "data_array_real_events\n"
      ],
      "execution_count": 9,
      "outputs": [
        {
          "output_type": "stream",
          "text": [
            "/usr/local/lib/python3.7/dist-packages/ipykernel_launcher.py:8: SettingWithCopyWarning: \n",
            "A value is trying to be set on a copy of a slice from a DataFrame.\n",
            "Try using .loc[row_indexer,col_indexer] = value instead\n",
            "\n",
            "See the caveats in the documentation: https://pandas.pydata.org/pandas-docs/stable/user_guide/indexing.html#returning-a-view-versus-a-copy\n",
            "  \n"
          ],
          "name": "stderr"
        },
        {
          "output_type": "execute_result",
          "data": {
            "text/html": [
              "<div>\n",
              "<style scoped>\n",
              "    .dataframe tbody tr th:only-of-type {\n",
              "        vertical-align: middle;\n",
              "    }\n",
              "\n",
              "    .dataframe tbody tr th {\n",
              "        vertical-align: top;\n",
              "    }\n",
              "\n",
              "    .dataframe thead th {\n",
              "        text-align: right;\n",
              "    }\n",
              "</style>\n",
              "<table border=\"1\" class=\"dataframe\">\n",
              "  <thead>\n",
              "    <tr style=\"text-align: right;\">\n",
              "      <th></th>\n",
              "      <th>S125</th>\n",
              "      <th>Weight</th>\n",
              "      <th>Energy</th>\n",
              "    </tr>\n",
              "  </thead>\n",
              "  <tbody>\n",
              "    <tr>\n",
              "      <th>14</th>\n",
              "      <td>5.449142</td>\n",
              "      <td>65</td>\n",
              "      <td>3.578336e+06</td>\n",
              "    </tr>\n",
              "    <tr>\n",
              "      <th>26</th>\n",
              "      <td>7.266548</td>\n",
              "      <td>80</td>\n",
              "      <td>5.193166e+06</td>\n",
              "    </tr>\n",
              "    <tr>\n",
              "      <th>25</th>\n",
              "      <td>12.199109</td>\n",
              "      <td>43</td>\n",
              "      <td>1.015276e+07</td>\n",
              "    </tr>\n",
              "    <tr>\n",
              "      <th>22</th>\n",
              "      <td>10.872468</td>\n",
              "      <td>12</td>\n",
              "      <td>8.747497e+06</td>\n",
              "    </tr>\n",
              "    <tr>\n",
              "      <th>21</th>\n",
              "      <td>3.857697</td>\n",
              "      <td>165</td>\n",
              "      <td>2.288652e+06</td>\n",
              "    </tr>\n",
              "    <tr>\n",
              "      <th>20</th>\n",
              "      <td>3.064278</td>\n",
              "      <td>195</td>\n",
              "      <td>1.698943e+06</td>\n",
              "    </tr>\n",
              "    <tr>\n",
              "      <th>19</th>\n",
              "      <td>8.636308</td>\n",
              "      <td>25</td>\n",
              "      <td>6.493561e+06</td>\n",
              "    </tr>\n",
              "    <tr>\n",
              "      <th>18</th>\n",
              "      <td>8.636308</td>\n",
              "      <td>69</td>\n",
              "      <td>6.493561e+06</td>\n",
              "    </tr>\n",
              "    <tr>\n",
              "      <th>16</th>\n",
              "      <td>18.252742</td>\n",
              "      <td>11</td>\n",
              "      <td>1.710156e+07</td>\n",
              "    </tr>\n",
              "    <tr>\n",
              "      <th>28</th>\n",
              "      <td>20.479914</td>\n",
              "      <td>5</td>\n",
              "      <td>1.984889e+07</td>\n",
              "    </tr>\n",
              "    <tr>\n",
              "      <th>11</th>\n",
              "      <td>6.860063</td>\n",
              "      <td>19</td>\n",
              "      <td>4.820388e+06</td>\n",
              "    </tr>\n",
              "    <tr>\n",
              "      <th>29</th>\n",
              "      <td>2.578268</td>\n",
              "      <td>120</td>\n",
              "      <td>1.358715e+06</td>\n",
              "    </tr>\n",
              "    <tr>\n",
              "      <th>9</th>\n",
              "      <td>36.419009</td>\n",
              "      <td>6</td>\n",
              "      <td>4.180599e+07</td>\n",
              "    </tr>\n",
              "    <tr>\n",
              "      <th>1</th>\n",
              "      <td>19.334285</td>\n",
              "      <td>10</td>\n",
              "      <td>1.842409e+07</td>\n",
              "    </tr>\n",
              "    <tr>\n",
              "      <th>4</th>\n",
              "      <td>17.231700</td>\n",
              "      <td>8</td>\n",
              "      <td>1.587397e+07</td>\n",
              "    </tr>\n",
              "  </tbody>\n",
              "</table>\n",
              "</div>"
            ],
            "text/plain": [
              "         S125  Weight        Energy\n",
              "14   5.449142      65  3.578336e+06\n",
              "26   7.266548      80  5.193166e+06\n",
              "25  12.199109      43  1.015276e+07\n",
              "22  10.872468      12  8.747497e+06\n",
              "21   3.857697     165  2.288652e+06\n",
              "20   3.064278     195  1.698943e+06\n",
              "19   8.636308      25  6.493561e+06\n",
              "18   8.636308      69  6.493561e+06\n",
              "16  18.252742      11  1.710156e+07\n",
              "28  20.479914       5  1.984889e+07\n",
              "11   6.860063      19  4.820388e+06\n",
              "29   2.578268     120  1.358715e+06\n",
              "9   36.419009       6  4.180599e+07\n",
              "1   19.334285      10  1.842409e+07\n",
              "4   17.231700       8  1.587397e+07"
            ]
          },
          "metadata": {
            "tags": []
          },
          "execution_count": 9
        }
      ]
    },
    {
      "cell_type": "markdown",
      "metadata": {
        "id": "ypu6a7lW5k5C"
      },
      "source": [
        "# Section 3: Using the real data to fit the rate"
      ]
    },
    {
      "cell_type": "markdown",
      "metadata": {
        "id": "FEMZskulRg-9"
      },
      "source": [
        "We now have to define energy bins for the analysis. You can change this by either varying the bin size or minimum and maximum of the bins. For now we use a defailt value of minimum energy=10^(6.4) and maximum energy=10^(7.6), and 6 bins."
      ]
    },
    {
      "cell_type": "code",
      "metadata": {
        "id": "3V9VpZISSWTT"
      },
      "source": [
        "minimum_energy_bin_power=6.4 #log10(E_min)\n",
        "maximum_energy_bin_power=7.4 #log10(E_max)\n",
        "number_bins=20 \n",
        "\n",
        "energy_bins=np.logspace(minimum_energy_bin_power,maximum_energy_bin_power,number_bins+1)\n"
      ],
      "execution_count": 10,
      "outputs": []
    },
    {
      "cell_type": "markdown",
      "metadata": {
        "id": "FHALMPCgUr1k"
      },
      "source": [
        "Next we derive the rate from the weight and energy information. This is done by first looking for the number of events in a particular energy bin. Once we know the number of events in a bin, the resultant number is divided by the bin width.\n",
        "\n",
        "As you are using all the events of one color we will use the exposure given in the guide = 8.186 109 m2 sr s."
      ]
    },
    {
      "cell_type": "code",
      "metadata": {
        "id": "61bPKO06UsGm",
        "colab": {
          "base_uri": "https://localhost:8080/"
        },
        "outputId": "46f21e01-3ff6-4ee6-8367-359ac24aeeed"
      },
      "source": [
        "# For each bin in energy bin, find the number of events. This is done by first finding the number \n",
        "# of rows that fall in the energy bin and then adding the weights.\n",
        "# For example if we have: \n",
        "# 2 events with energy 5 MeV, \n",
        "# 3 events with energy 10 MeV and \n",
        "# 7 events with energy 12 MeV\n",
        "# For the first bin (if the energy_bins array = [1,11,21]), minimum and maximum energy is 1 and 11\n",
        "# Which would give 2+3 events = 5 events in the 1st bin and 7 events in the second (11-21)\n",
        "\n",
        "\n",
        "rate_array=[]\n",
        "mean_energy=[]\n",
        "for i in range(len(energy_bins)):\n",
        "  if i==len(energy_bins)-1:\n",
        "    continue\n",
        "  print(\"Running Energy Bin: %s \\n\\t [Emin,Emax]=[%.2e,%.2e]\"%(i+1,energy_bins[i],energy_bins[i+1]))\n",
        "  data_array_min_e_cropped = data_array_real_events[data_array_real_events['Energy'] > energy_bins[i]]\n",
        "  data_array_max_e_cropped = data_array_min_e_cropped[data_array_min_e_cropped['Energy'] < energy_bins[i+1]]\n",
        "  print(\"\\t Number of Rows in energy bin  :\",len(data_array_max_e_cropped))\n",
        "  print(\"\\t Number of Events (Weights sum):\",data_array_max_e_cropped['Weight'].sum())\n",
        "  if data_array_max_e_cropped['Weight'].sum()==0:\n",
        "    print(\"\\t Skipping bin as there are no events \\n\")\n",
        "    continue\n",
        "  # Now that we have the number of events, we divide it by the bin width given by dE= (E_max-E_min)/N or (E[i+1]-E[i]) to get the rate\n",
        "  rate_bin = data_array_max_e_cropped['Weight'].sum()/(energy_bins[i+1]-energy_bins[i])\n",
        "  rate_array.append(rate_bin)\n",
        "  mean_energy.append((energy_bins[i+1]+energy_bins[i])/2) # Mean energy is the midpoint fo the energy bins\n",
        "  print(\"\\n\")\n",
        "mean_energy=np.asarray(mean_energy)\n",
        "\n",
        "# Now we divide the events/energy by the exposure to get the final rate array\n",
        "# exposure:\n",
        "exposure=8.186e9 #m2 sr s.\n",
        "#rate (weights/(exposure*energy))\n",
        "rate=np.asarray(rate_array)/(exposure)"
      ],
      "execution_count": 11,
      "outputs": [
        {
          "output_type": "stream",
          "text": [
            "Running Energy Bin: 1 \n",
            "\t [Emin,Emax]=[2.51e+06,2.82e+06]\n",
            "\t Number of Rows in energy bin  : 0\n",
            "\t Number of Events (Weights sum): 0\n",
            "\t Skipping bin as there are no events \n",
            "\n",
            "Running Energy Bin: 2 \n",
            "\t [Emin,Emax]=[2.82e+06,3.16e+06]\n",
            "\t Number of Rows in energy bin  : 0\n",
            "\t Number of Events (Weights sum): 0\n",
            "\t Skipping bin as there are no events \n",
            "\n",
            "Running Energy Bin: 3 \n",
            "\t [Emin,Emax]=[3.16e+06,3.55e+06]\n",
            "\t Number of Rows in energy bin  : 0\n",
            "\t Number of Events (Weights sum): 0\n",
            "\t Skipping bin as there are no events \n",
            "\n",
            "Running Energy Bin: 4 \n",
            "\t [Emin,Emax]=[3.55e+06,3.98e+06]\n",
            "\t Number of Rows in energy bin  : 1\n",
            "\t Number of Events (Weights sum): 65\n",
            "\n",
            "\n",
            "Running Energy Bin: 5 \n",
            "\t [Emin,Emax]=[3.98e+06,4.47e+06]\n",
            "\t Number of Rows in energy bin  : 0\n",
            "\t Number of Events (Weights sum): 0\n",
            "\t Skipping bin as there are no events \n",
            "\n",
            "Running Energy Bin: 6 \n",
            "\t [Emin,Emax]=[4.47e+06,5.01e+06]\n",
            "\t Number of Rows in energy bin  : 1\n",
            "\t Number of Events (Weights sum): 19\n",
            "\n",
            "\n",
            "Running Energy Bin: 7 \n",
            "\t [Emin,Emax]=[5.01e+06,5.62e+06]\n",
            "\t Number of Rows in energy bin  : 1\n",
            "\t Number of Events (Weights sum): 80\n",
            "\n",
            "\n",
            "Running Energy Bin: 8 \n",
            "\t [Emin,Emax]=[5.62e+06,6.31e+06]\n",
            "\t Number of Rows in energy bin  : 0\n",
            "\t Number of Events (Weights sum): 0\n",
            "\t Skipping bin as there are no events \n",
            "\n",
            "Running Energy Bin: 9 \n",
            "\t [Emin,Emax]=[6.31e+06,7.08e+06]\n",
            "\t Number of Rows in energy bin  : 2\n",
            "\t Number of Events (Weights sum): 94\n",
            "\n",
            "\n",
            "Running Energy Bin: 10 \n",
            "\t [Emin,Emax]=[7.08e+06,7.94e+06]\n",
            "\t Number of Rows in energy bin  : 0\n",
            "\t Number of Events (Weights sum): 0\n",
            "\t Skipping bin as there are no events \n",
            "\n",
            "Running Energy Bin: 11 \n",
            "\t [Emin,Emax]=[7.94e+06,8.91e+06]\n",
            "\t Number of Rows in energy bin  : 1\n",
            "\t Number of Events (Weights sum): 12\n",
            "\n",
            "\n",
            "Running Energy Bin: 12 \n",
            "\t [Emin,Emax]=[8.91e+06,1.00e+07]\n",
            "\t Number of Rows in energy bin  : 0\n",
            "\t Number of Events (Weights sum): 0\n",
            "\t Skipping bin as there are no events \n",
            "\n",
            "Running Energy Bin: 13 \n",
            "\t [Emin,Emax]=[1.00e+07,1.12e+07]\n",
            "\t Number of Rows in energy bin  : 1\n",
            "\t Number of Events (Weights sum): 43\n",
            "\n",
            "\n",
            "Running Energy Bin: 14 \n",
            "\t [Emin,Emax]=[1.12e+07,1.26e+07]\n",
            "\t Number of Rows in energy bin  : 0\n",
            "\t Number of Events (Weights sum): 0\n",
            "\t Skipping bin as there are no events \n",
            "\n",
            "Running Energy Bin: 15 \n",
            "\t [Emin,Emax]=[1.26e+07,1.41e+07]\n",
            "\t Number of Rows in energy bin  : 0\n",
            "\t Number of Events (Weights sum): 0\n",
            "\t Skipping bin as there are no events \n",
            "\n",
            "Running Energy Bin: 16 \n",
            "\t [Emin,Emax]=[1.41e+07,1.58e+07]\n",
            "\t Number of Rows in energy bin  : 0\n",
            "\t Number of Events (Weights sum): 0\n",
            "\t Skipping bin as there are no events \n",
            "\n",
            "Running Energy Bin: 17 \n",
            "\t [Emin,Emax]=[1.58e+07,1.78e+07]\n",
            "\t Number of Rows in energy bin  : 2\n",
            "\t Number of Events (Weights sum): 19\n",
            "\n",
            "\n",
            "Running Energy Bin: 18 \n",
            "\t [Emin,Emax]=[1.78e+07,2.00e+07]\n",
            "\t Number of Rows in energy bin  : 2\n",
            "\t Number of Events (Weights sum): 15\n",
            "\n",
            "\n",
            "Running Energy Bin: 19 \n",
            "\t [Emin,Emax]=[2.00e+07,2.24e+07]\n",
            "\t Number of Rows in energy bin  : 0\n",
            "\t Number of Events (Weights sum): 0\n",
            "\t Skipping bin as there are no events \n",
            "\n",
            "Running Energy Bin: 20 \n",
            "\t [Emin,Emax]=[2.24e+07,2.51e+07]\n",
            "\t Number of Rows in energy bin  : 0\n",
            "\t Number of Events (Weights sum): 0\n",
            "\t Skipping bin as there are no events \n",
            "\n"
          ],
          "name": "stdout"
        }
      ]
    },
    {
      "cell_type": "markdown",
      "metadata": {
        "id": "YOl9_LNnR9mT"
      },
      "source": [
        "Once the data is filtered and the rate is derived, we will use the information we have to plot the rate. "
      ]
    },
    {
      "cell_type": "code",
      "metadata": {
        "id": "WOUy7zKyHEv5",
        "colab": {
          "base_uri": "https://localhost:8080/",
          "height": 359
        },
        "outputId": "9bf1c9fe-5e2b-47ee-8253-ff87922ea992"
      },
      "source": [
        "#Just plotting the data to see how it looks like:\n",
        "fig = plt.figure(figsize=(5,5))\n",
        "ax1 = plt.subplot()\n",
        "ax1.scatter(mean_energy,rate)\n",
        "ax1.set_xscale(\"log\")\n",
        "ax1.set_yscale(\"log\")\n",
        "ax1.set_xlabel(\"Energy\",fontsize=14)\n",
        "ax1.set_ylabel(\"Rate\",fontsize=14)\n"
      ],
      "execution_count": 12,
      "outputs": [
        {
          "output_type": "execute_result",
          "data": {
            "text/plain": [
              "Text(0, 0.5, 'Rate')"
            ]
          },
          "metadata": {
            "tags": []
          },
          "execution_count": 12
        },
        {
          "output_type": "display_data",
          "data": {
            "image/png": "[encoded data removed]",
            "text/plain": [
              "<Figure size 360x360 with 1 Axes>"
            ]
          },
          "metadata": {
            "tags": [],
            "needs_background": "light"
          }
        }
      ]
    },
    {
      "cell_type": "markdown",
      "metadata": {
        "id": "8vVeGnCMXsRR"
      },
      "source": [
        "Next we use the plot to fit a power law.\n",
        "\n",
        "(A power law is commonly given by the equation Y = n \n",
        "X^b, where n is called the normaliztion and b is called \n",
        "the index)"
      ]
    },
    {
      "cell_type": "code",
      "metadata": {
        "id": "2ZJN1wsdHEyf",
        "colab": {
          "base_uri": "https://localhost:8080/"
        },
        "outputId": "89a915cc-6fb0-484b-9fa5-0b83a41618be"
      },
      "source": [
        "# We can use the same power law definition as Section 2 to run this step, However, as we want a negative index, \n",
        "# we will define it again using a negative index\n",
        "def power_law(x, n, b):\n",
        "    return n*(x**(-1.0*b)) \n",
        "\n",
        "# We use the curve_fit function of scipy. Here we give the function to be fit (power_law),\n",
        "# the xdata=Energy values and the ydata=calculated rate\n",
        "# We get the parameters (n,b) as one of the outputs and  the estimated covariance of parameters \n",
        "# which can be used to determine the standard deviations of the fitting parameters.\n",
        "# We only require the parameters for this exercise as we are not plotting errors\n",
        "\n",
        "parameters, covariance = curve_fit(f=power_law, xdata=mean_energy, ydata=rate)\n",
        "\n",
        "# The Power-Law fit that you got looks like the following:\n",
        "print(\"Power Law Fit Result:\\n\")\n",
        "print(\"Normalization: %.2e \\nIndex: -%.2f \\nEquation:\"%(parameters[0],parameters[1]))\n",
        "print(\"Y = %.2e X^(-%.2f)\"%(parameters[0],parameters[1]))\n"
      ],
      "execution_count": 13,
      "outputs": [
        {
          "output_type": "stream",
          "text": [
            "Power Law Fit Result:\n",
            "\n",
            "Normalization: 1.05e-05 \n",
            "Index: -1.34 \n",
            "Equation:\n",
            "Y = 1.05e-05 X^(-1.34)\n"
          ],
          "name": "stdout"
        }
      ]
    },
    {
      "cell_type": "code",
      "metadata": {
        "colab": {
          "base_uri": "https://localhost:8080/",
          "height": 359
        },
        "id": "PRcJ_g6xaMUT",
        "outputId": "9f590a6c-a243-4ca2-d31a-65bd7beaba1a"
      },
      "source": [
        "# Now we plot the power law result that you got above\":\n",
        "# First we make a set of energy values and the corresponding Y values derived from the powerlaw function\n",
        "energy_for_powerlaw = energy_bins\n",
        "rate_from_powerlaw = power_law(energy_for_powerlaw,parameters[0],parameters[1])\n",
        "\n",
        "#Now we plot all the results:\n",
        "fig = plt.figure(figsize=(5,5))\n",
        "ax1 = plt.subplot()\n",
        "ax1.scatter(mean_energy,rate,label=\"Observed data\")\n",
        "ax1.plot(energy_for_powerlaw,rate_from_powerlaw,label=\"Fit: Y = %.2e $X^{-%.2f}$\"%(parameters[0],parameters[1]))\n",
        "ax1.set_xscale(\"log\")\n",
        "ax1.set_yscale(\"log\")\n",
        "ax1.set_xlabel(\"Energy\",fontsize=14)\n",
        "ax1.set_ylabel(\"Rate\",fontsize=14)\n",
        "plt.legend(fontsize=14)\n"
      ],
      "execution_count": 14,
      "outputs": [
        {
          "output_type": "execute_result",
          "data": {
            "text/plain": [
              "<matplotlib.legend.Legend at 0x7fdb45678b90>"
            ]
          },
          "metadata": {
            "tags": []
          },
          "execution_count": 14
        },
        {
          "output_type": "display_data",
          "data": {
            "image/png": "[encoded data removed]",
            "text/plain": [
              "<Figure size 360x360 with 1 Axes>"
            ]
          },
          "metadata": {
            "tags": [],
            "needs_background": "light"
          }
        }
      ]
    },
    {
      "cell_type": "markdown",
      "metadata": {
        "id": "4EpDdYgETaio"
      },
      "source": [
        "Note: If the fit that you got does not appear very good, more data points are needed. This can be done by running the optional section given below."
      ]
    },
    {
      "cell_type": "markdown",
      "metadata": {
        "id": "WlmP1LjgTc4q"
      },
      "source": [
        "# Optional analysis: \n",
        "Run all the events for all the different coloured groups to get all the simulated and real data. Once you have that you can re-run the above analysis to get a result similar to the one shown in the research paper given online.\n"
      ]
    },
    {
      "cell_type": "markdown",
      "metadata": {
        "id": "6_RIYU_GcfTa"
      },
      "source": [
        "Once you have that, Congratulations! You were able to reproduce a particular research finding of the IceCube Collaboration, published in Physical Review D in August 2013. "
      ]
    }
  ]
}